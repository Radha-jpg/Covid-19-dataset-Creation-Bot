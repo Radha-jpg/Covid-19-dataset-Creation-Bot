{
 "cells": [
  {
   "cell_type": "code",
   "execution_count": 2,
   "id": "917593c9",
   "metadata": {},
   "outputs": [
    {
     "name": "stdout",
     "output_type": "stream",
     "text": [
      "Collecting selenium\n",
      "  Using cached selenium-3.141.0-py2.py3-none-any.whl (904 kB)\n",
      "Requirement already satisfied: urllib3 in c:\\users\\acer\\anaconda3\\lib\\site-packages (from selenium) (1.26.4)\n",
      "Installing collected packages: selenium\n",
      "Successfully installed selenium-3.141.0\n",
      "Note: you may need to restart the kernel to use updated packages.\n"
     ]
    }
   ],
   "source": [
    "pip install selenium\n"
   ]
  },
  {
   "cell_type": "code",
   "execution_count": 17,
   "id": "28e72414",
   "metadata": {},
   "outputs": [
    {
     "name": "stdout",
     "output_type": "stream",
     "text": [
      "Empty DataFrame\n",
      "Columns: [Rank, Country, Total Cases, New Cases, Deaths, New Deaths, Recovered, Active Cases, Critical]\n",
      "Index: []\n"
     ]
    }
   ],
   "source": [
    "from selenium import webdriver\n",
    "import pandas as pd\n",
    "import time\n",
    "\n",
    "\n",
    "browser=webdriver.Chrome('C:\\\\Users\\\\Acer\\\\Desktop\\\\webdriver\\\\chromedriver.exe')\n",
    "browser.get('https://www.worldometers.info/coronavirus/')\n",
    "time.sleep(60)\n",
    "df=pd.DataFrame(columns=['Rank','Country','Total Cases','New Cases','Deaths','New Deaths','Recovered','Active Cases','Critical'])\n",
    "print(df)\n",
    "\n",
    "\n"
   ]
  },
  {
   "cell_type": "code",
   "execution_count": 19,
   "id": "783f449c",
   "metadata": {},
   "outputs": [
    {
     "name": "stdout",
     "output_type": "stream",
     "text": [
      "    Rank Country  Total Cases New Cases     Deaths New Deaths    Recovered  \\\n",
      "0          World  188,653,391   +72,019  4,066,847     +1,504  172,470,299   \n",
      "1                                                                            \n",
      "2                                                                            \n",
      "3                                                                            \n",
      "4      1     USA   34,807,813              623,435              29,304,451   \n",
      "..   ...     ...          ...       ...        ...        ...          ...   \n",
      "233                                                                          \n",
      "234                                                                          \n",
      "235                                                                          \n",
      "236                                                                          \n",
      "237       Total:  188,653,391   +72,019  4,066,847     +1,504  172,470,299   \n",
      "\n",
      "    Active Cases    Critical  \n",
      "0        +62,549  12,116,245  \n",
      "1                             \n",
      "2                             \n",
      "3                             \n",
      "4                  4,879,927  \n",
      "..           ...         ...  \n",
      "233                           \n",
      "234                           \n",
      "235                           \n",
      "236                           \n",
      "237      +62,549  12,116,245  \n",
      "\n",
      "[238 rows x 9 columns]\n"
     ]
    }
   ],
   "source": [
    "for i in browser.find_elements_by_xpath('//*[@id=\"main_table_countries_today\"]/tbody/tr'): # tr for each of country\n",
    "    td_list=i.find_elements_by_tag_name('td') # tag name retrieve each piece of info for a country\n",
    "    row=[]\n",
    "    for td in td_list:\n",
    "        row.append(td.text) # creating row ie each country data\n",
    "    data = {}\n",
    "    for j in range(len(df.columns)):\n",
    "        data[df.columns[j]] = row[j] \n",
    "    df = df.append(data, ignore_index=True)\n",
    "    \n",
    "print(df)"
   ]
  },
  {
   "cell_type": "code",
   "execution_count": 20,
   "id": "f5b292e1",
   "metadata": {},
   "outputs": [],
   "source": [
    "import os\n"
   ]
  },
  {
   "cell_type": "code",
   "execution_count": 22,
   "id": "4ff9704d",
   "metadata": {},
   "outputs": [
    {
     "name": "stdout",
     "output_type": "stream",
     "text": [
      "The data has been stored at C:\\Users\\Acer\\Desktop\\webdriver\\Covid.csv.\n"
     ]
    }
   ],
   "source": [
    "df=df[1:]\n",
    "path=('C:\\\\Users\\\\Acer\\\\Desktop\\\\webdriver')\n",
    "path1=os.path.join(path,'Covid.csv')\n",
    "df.to_csv(path1,index=False)\n",
    "print(\"The data has been stored at \"+path1+\".\")"
   ]
  },
  {
   "cell_type": "code",
   "execution_count": null,
   "id": "81358bc4",
   "metadata": {},
   "outputs": [],
   "source": []
  }
 ],
 "metadata": {
  "kernelspec": {
   "display_name": "Python 3",
   "language": "python",
   "name": "python3"
  },
  "language_info": {
   "codemirror_mode": {
    "name": "ipython",
    "version": 3
   },
   "file_extension": ".py",
   "mimetype": "text/x-python",
   "name": "python",
   "nbconvert_exporter": "python",
   "pygments_lexer": "ipython3",
   "version": "3.8.8"
  }
 },
 "nbformat": 4,
 "nbformat_minor": 5
}
